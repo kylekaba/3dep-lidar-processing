{
 "cells": [
  {
   "cell_type": "markdown",
   "id": "0aa84d8b-0bd1-4063-abb7-7d3b47b9aade",
   "metadata": {},
   "source": [
    "\n",
    "\n"
   ]
  },
  {
   "cell_type": "markdown",
   "id": "dd0013aa-4323-4e31-b22f-e62ad2da9e7a",
   "metadata": {},
   "source": [
    "# Water Masking Test Notebook\n",
    "\n",
    "The purpose of this notebook is to adapt the framework for the USGS 3DEP lidar processing tools. Specifically, we are testing the water mask function. The purpose of the water mask is to identify which pixels are classified as \"water\" in the USGS 3DEP point cloud data. The idea is that for our bare-earth models (digital terrain models) we want some estimate of the bare earth elevation at points where the buildings and trees are. To do this, one way is to simply interpolate the points in a building location based on the nearest ground points. The idea with the 1-m resolution data is that elevation of a building should be approximately that of the surrounding ground points. The same goes for tree ground elevations. Based on the points that penetrate the canopy layer, the tree base should be at a similar elevation."
   ]
  },
  {
   "cell_type": "code",
   "execution_count": 15,
   "id": "0dd234a2-8137-4271-8481-5d5d0bbe6067",
   "metadata": {},
   "outputs": [
    {
     "name": "stdout",
     "output_type": "stream",
     "text": [
      "Updated sys.path: ['/Users/kkabasar/Documents/GitHub/3dep-lidar-processing/test', '/Users/kkabasar/miniconda3/envs/3dep/lib/python312.zip', '/Users/kkabasar/miniconda3/envs/3dep/lib/python3.12', '/Users/kkabasar/miniconda3/envs/3dep/lib/python3.12/lib-dynload', '', '/Users/kkabasar/miniconda3/envs/3dep/lib/python3.12/site-packages', '/Users/kkabasar/Documents/GitHub/3dep-lidar-processing/source', '/Users/kkabasar/Documents/GitHub/3dep-lidar-processing/source', '/Users/kkabasar/Documents/GitHub/3dep-lidar-processing/source', '/Users/kkabasar/Documents/GitHub/3dep-lidar-processing/source', '/Users/kkabasar/Documents/GitHub/3dep-lidar-processing/source', '/Users/kkabasar/Documents/GitHub/3dep-lidar-processing/source', '/Users/kkabasar/Documents/GitHub/3dep-lidar-processing/source', '/Users/kkabasar/Documents/GitHub/3dep-lidar-processing/source']\n"
     ]
    }
   ],
   "source": [
    "import sys\n",
    "sys.path.append('/Users/kkabasar/Documents/GitHub/3dep-lidar-processing/source')\n",
    "# print the updated sys.path\n",
    "print('Updated sys.path:', sys.path)\n",
    " \n",
    "from create_chm import create_chm\n",
    "from create_water_mask import create_water_mask\n",
    "from make_local_DEM_pipeline import make_local_DEM_pipeline\n",
    "from process_directory import process_directory\n"
   ]
  },
  {
   "cell_type": "code",
   "execution_count": 16,
   "id": "049dabe2-56a1-4ee6-830d-d52c70916141",
   "metadata": {},
   "outputs": [
    {
     "data": {
      "text/plain": [
       "<function make_local_DEM_pipeline.make_local_DEM_pipeline(laz_file_path, dem_type='dtm', dem_resolution=1.0, output_path='output_dem.tif')>"
      ]
     },
     "execution_count": 16,
     "metadata": {},
     "output_type": "execute_result"
    }
   ],
   "source": [
    "make_local_DEM_pipeline"
   ]
  },
  {
   "cell_type": "code",
   "execution_count": null,
   "id": "8a894087-c381-41fc-8b2f-6813e29f7787",
   "metadata": {},
   "outputs": [],
   "source": []
  }
 ],
 "metadata": {
  "kernelspec": {
   "display_name": "Python 3 (ipykernel)",
   "language": "python",
   "name": "python3"
  },
  "language_info": {
   "codemirror_mode": {
    "name": "ipython",
    "version": 3
   },
   "file_extension": ".py",
   "mimetype": "text/x-python",
   "name": "python",
   "nbconvert_exporter": "python",
   "pygments_lexer": "ipython3",
   "version": "3.12.0"
  }
 },
 "nbformat": 4,
 "nbformat_minor": 5
}
