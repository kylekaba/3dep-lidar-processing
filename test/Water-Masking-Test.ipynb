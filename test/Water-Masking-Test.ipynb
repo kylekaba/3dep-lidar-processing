{
 "cells": [
  {
   "cell_type": "markdown",
   "id": "0aa84d8b-0bd1-4063-abb7-7d3b47b9aade",
   "metadata": {},
   "source": [
    "\n",
    "\n"
   ]
  },
  {
   "cell_type": "markdown",
   "id": "dd0013aa-4323-4e31-b22f-e62ad2da9e7a",
   "metadata": {},
   "source": [
    "# Water Masking Test Notebook\n",
    "\n",
    "The purpose of this notebook is to adapt the framework for the USGS 3DEP lidar processing tools. Specifically, we are testing the water mask function. The purpose of the water mask is to identify which pixels are classified as \"water\" in the USGS 3DEP point cloud data. The idea is that for our bare-earth models (digital terrain models) we want some estimate of the bare earth elevation at points where the buildings and trees are. To do this, one way is to simply interpolate the points in a building location based on the nearest ground points. The idea with the 1-m resolution data is that elevation of a building should be approximately that of the surrounding ground points. The same goes for tree ground elevations. Based on the points that penetrate the canopy layer, the tree base should be at a similar elevation."
   ]
  },
  {
   "cell_type": "code",
   "execution_count": 15,
   "id": "0dd234a2-8137-4271-8481-5d5d0bbe6067",
   "metadata": {},
   "outputs": [
    {
     "name": "stdout",
     "output_type": "stream",
     "text": [
      "Updated sys.path: ['/Users/kkabasar/Documents/GitHub/3dep-lidar-processing/test', '/Users/kkabasar/miniconda3/envs/3dep/lib/python312.zip', '/Users/kkabasar/miniconda3/envs/3dep/lib/python3.12', '/Users/kkabasar/miniconda3/envs/3dep/lib/python3.12/lib-dynload', '', '/Users/kkabasar/miniconda3/envs/3dep/lib/python3.12/site-packages', '/Users/kkabasar/Documents/GitHub/3dep-lidar-processing/source', '/Users/kkabasar/Documents/GitHub/3dep-lidar-processing/source', '/Users/kkabasar/Documents/GitHub/3dep-lidar-processing/source', '/Users/kkabasar/Documents/GitHub/3dep-lidar-processing/source', '/Users/kkabasar/Documents/GitHub/3dep-lidar-processing/source', '/Users/kkabasar/Documents/GitHub/3dep-lidar-processing/source', '/Users/kkabasar/Documents/GitHub/3dep-lidar-processing/source', '/Users/kkabasar/Documents/GitHub/3dep-lidar-processing/source']\n"
     ]
    }
   ],
   "source": [
    "import sys\n",
    "sys.path.append('/Users/kkabasar/Documents/GitHub/3dep-lidar-processing/source')\n",
    "# print the updated sys.path\n",
    "print('Updated sys.path:', sys.path)\n",
    " \n",
    "from create_chm import create_chm\n",
    "from create_water_mask import create_water_mask\n",
    "from make_local_DEM_pipeline import make_local_DEM_pipeline\n",
    "from process_directory import process_directory\n"
   ]
  },
  {
   "cell_type": "code",
   "execution_count": 21,
   "id": "8a894087-c381-41fc-8b2f-6813e29f7787",
   "metadata": {},
   "outputs": [],
   "source": [
    "import os\n",
    "import json\n",
    "import pdal\n",
    "import numpy as np\n",
    "import rioxarray as rio\n",
    "import matplotlib.pyplot as plt\n",
    "from pathlib import Path"
   ]
  },
  {
   "cell_type": "markdown",
   "id": "391b600f-a642-4af7-a7ec-422ddd61d5ae",
   "metadata": {},
   "source": [
    "# Testing the pipeline"
   ]
  },
  {
   "cell_type": "code",
   "execution_count": 22,
   "id": "0147638b-c939-42b1-bdf6-9b734b661a6e",
   "metadata": {},
   "outputs": [
    {
     "ename": "NameError",
     "evalue": "name 'Path' is not defined",
     "output_type": "error",
     "traceback": [
      "\u001b[0;31m---------------------------------------------------------------------------\u001b[0m",
      "\u001b[0;31mNameError\u001b[0m                                 Traceback (most recent call last)",
      "Cell \u001b[0;32mIn[22], line 3\u001b[0m\n\u001b[1;32m      1\u001b[0m \u001b[38;5;66;03m# Specify your directory containing .laz files\u001b[39;00m\n\u001b[1;32m      2\u001b[0m data_directory \u001b[38;5;241m=\u001b[39m \u001b[38;5;124m\"\u001b[39m\u001b[38;5;124m/Users/kkabasar/Desktop/usgs-3dep/data_workflow_test/howell-reservoir\u001b[39m\u001b[38;5;124m\"\u001b[39m\n\u001b[0;32m----> 3\u001b[0m \u001b[43mprocess_directory\u001b[49m\u001b[43m(\u001b[49m\u001b[43mdata_directory\u001b[49m\u001b[43m)\u001b[49m\n",
      "File \u001b[0;32m~/Documents/GitHub/3dep-lidar-processing/source/process_directory.py:3\u001b[0m, in \u001b[0;36mprocess_directory\u001b[0;34m(directory_path)\u001b[0m\n\u001b[1;32m      2\u001b[0m \u001b[38;5;28;01mdef\u001b[39;00m \u001b[38;5;21mprocess_directory\u001b[39m(directory_path):\n\u001b[0;32m----> 3\u001b[0m     \u001b[38;5;28;01mfor\u001b[39;00m laz_file \u001b[38;5;129;01min\u001b[39;00m \u001b[43mPath\u001b[49m(directory_path)\u001b[38;5;241m.\u001b[39mrglob(\u001b[38;5;124m'\u001b[39m\u001b[38;5;124m*.laz\u001b[39m\u001b[38;5;124m'\u001b[39m):\n\u001b[1;32m      4\u001b[0m         base_name \u001b[38;5;241m=\u001b[39m laz_file\u001b[38;5;241m.\u001b[39mstem\n\u001b[1;32m      5\u001b[0m         output_directory \u001b[38;5;241m=\u001b[39m laz_file\u001b[38;5;241m.\u001b[39mparent\n",
      "\u001b[0;31mNameError\u001b[0m: name 'Path' is not defined"
     ]
    }
   ],
   "source": [
    "# Specify your directory containing .laz files\n",
    "data_directory = \"/Users/kkabasar/Desktop/usgs-3dep/data_workflow_test/howell-reservoir\"\n",
    "process_directory(data_directory)"
   ]
  },
  {
   "cell_type": "code",
   "execution_count": null,
   "id": "a6ce36b9-34bc-4dc4-a1a9-216a4ee682b6",
   "metadata": {},
   "outputs": [],
   "source": []
  }
 ],
 "metadata": {
  "kernelspec": {
   "display_name": "Python 3 (ipykernel)",
   "language": "python",
   "name": "python3"
  },
  "language_info": {
   "codemirror_mode": {
    "name": "ipython",
    "version": 3
   },
   "file_extension": ".py",
   "mimetype": "text/x-python",
   "name": "python",
   "nbconvert_exporter": "python",
   "pygments_lexer": "ipython3",
   "version": "3.12.0"
  }
 },
 "nbformat": 4,
 "nbformat_minor": 5
}
